{
 "cells": [
  {
   "cell_type": "markdown",
   "metadata": {},
   "source": [
    "__E__lastic __Net__ Regression in __S__cala\n",
    "\n",
    "Enets is a simple framework for estimating generalized and robust linear models with elastic net regularization in scala.  \n",
    "\n",
    "Current, the GLMs supporting include\n",
    "* Gaussian\n",
    "* Poisson\n",
    "* Negative Binomial and\n",
    "* Binomial \n",
    "\n",
    "and RLMs include the following robust norms\n",
    "* Huber\n",
    "* Approximate (Smooth) Huber\n",
    "* Tukey\n",
    "* L1\n",
    "* Trimmed Mean\n",
    "* Ramsay\n",
    "* Cauchy\n"
   ]
  },
  {
   "cell_type": "code",
   "execution_count": 1,
   "metadata": {},
   "outputs": [
    {
     "name": "stdout",
     "output_type": "stream",
     "text": [
      "40 new artifact(s)"
     ]
    },
    {
     "name": "stderr",
     "output_type": "stream",
     "text": [
      "40 new artifacts in macro\r\n"
     ]
    },
    {
     "name": "stdout",
     "output_type": "stream",
     "text": [
      "\r\n"
     ]
    },
    {
     "name": "stderr",
     "output_type": "stream",
     "text": [
      "40 new artifacts in runtime\n",
      "40 new artifacts in compile\n"
     ]
    },
    {
     "data": {
      "text/plain": []
     },
     "metadata": {},
     "output_type": "display_data"
    }
   ],
   "source": [
    "// add breeze for linear algebra\n",
    "classpath.add(\"org.scalanlp\" %% \"breeze\" % \"0.13.2\",\n",
    "    \"org.scalanlp\" %% \"breeze-natives\" % \"0.13.2\",\n",
    "    \"org.scalanlp\" %% \"breeze-viz\" % \"0.13.2\")"
   ]
  },
  {
   "cell_type": "code",
   "execution_count": 2,
   "metadata": {},
   "outputs": [
    {
     "data": {
      "text/plain": []
     },
     "metadata": {},
     "output_type": "display_data"
    }
   ],
   "source": [
    "// add enets\n",
    "classpath.addPath(\"../target/scala-2.11/enets_2.11-1.0.jar\")"
   ]
  },
  {
   "cell_type": "code",
   "execution_count": 3,
   "metadata": {},
   "outputs": [
    {
     "data": {
      "text/plain": [
       "\u001b[32mimport \u001b[36mjava.io.File\u001b[0m\n",
       "\u001b[32mimport \u001b[36mbreeze.linalg.csvread\u001b[0m\n",
       "\u001b[32mimport \u001b[36mbreeze.stats.median\u001b[0m\n",
       "\u001b[32mimport \u001b[36mbreeze.stats.distributions.Gaussian\u001b[0m\n",
       "\u001b[32mimport \u001b[36mcom.github.timsetsfire.enets._\u001b[0m\n",
       "\u001b[32mimport \u001b[36mcom.github.timsetsfire.enets.robust.norms._\u001b[0m"
      ]
     },
     "metadata": {},
     "output_type": "display_data"
    }
   ],
   "source": [
    "import java.io.File\n",
    "import breeze.linalg.csvread\n",
    "import breeze.stats.median\n",
    "import com.github.timsetsfire.enets._\n",
    "import com.github.timsetsfire.enets.robust.norms._"
   ]
  },
  {
   "cell_type": "code",
   "execution_count": 4,
   "metadata": {
    "scrolled": true
   },
   "outputs": [
    {
     "data": {
      "text/plain": [
       "\u001b[36mx\u001b[0m: \u001b[32mbreeze\u001b[0m.\u001b[32mlinalg\u001b[0m.\u001b[32mDenseMatrix\u001b[0m[\u001b[32mDouble\u001b[0m] = 0.00632  18.0   2.31   0.0  0.538   6.575  65.2   4.09    1.0  ... (13 total)\n",
       "0.02731  0.0    7.07   0.0  0.469   6.421  78.9   4.9671  2.0  ...\n",
       "0.02729  0.0    7.07   0.0  0.469   7.185  61.1   4.9671  2.0  ...\n",
       "0.03237  0.0    2.18   0.0  0.458   6.998  45.8   6.0622  3.0  ...\n",
       "0.06905  0.0    2.18   0.0  0.458   7.147  54.2   6.0622  3.0  ...\n",
       "0.02985  0.0    2.18   0.0  0.458   6.43   58.7   6.0622  3.0  ...\n",
       "0.08829  12.5   7.87   0.0  0.524   6.012  66.6   5.5605  5.0  ...\n",
       "0.14455  12.5   7.87   0.0  0.524   6.172  96.1   5.9505  5.0  ...\n",
       "0.21124  12.5   7.87   0.0  0.524   5.631  100.0  6.0821  5.0  ...\n",
       "0.17004  12.5   7.87   0.0  0.524   6.004  85.9   6.5921  5.0  ...\n",
       "0.22489  12.5   7.87   0.0  0.524   6.377  94.3   6.3467  5.0  ...\n",
       "0.11747  12.5   7.87   0.0  0.524   6.009  82.9   6.2267  5.0  ...\n",
       "0.09378  12.5   7.87   0.0  0.524   5.889  39.0   5.4509  5.0  ...\n",
       "0.62976  0.0    8.14   0.0  0.538   5.949  61.8   4.7075  4.0  ...\n",
       "0.63796  0.0    8.14   0.0  0.538   6.096  84.5   4.4619  4.0  ...\n",
       "0.62739  0.0    8.14   0.0  0.538   5.834  56.5   4.4986  4.0  ...\n",
       "1.05393  0.0    8.14   0.0  0.538   5.935  29.3   4.4986  4.0  ...\n",
       "0.7842   0.0    8.14   0.0  0.538   5.99   81.7   4.2579  4.0  ...\n",
       "0.80271  0.0    8.14   0.0  0.538   5.456  36.6   3.7965  4.0  ...\n",
       "0.7258   0.0    8.14   0.0  0.538   5.727  69.5   3.7965  4.0  ...\n",
       "\u001b[33m...\u001b[0m\n",
       "\u001b[36my\u001b[0m: \u001b[32mbreeze\u001b[0m.\u001b[32mlinalg\u001b[0m.\u001b[32mDenseVector\u001b[0m[\u001b[32mDouble\u001b[0m] = DenseVector(24.0, 21.6, 34.7, 33.4, 36.2, 28.7, 22.9, 27.1, 16.5, 18.9, 15.0, 18.9, 21.7, 20.4, 18.2, 19.9, 23.1, 17.5, 20.2, 18.2, 13.6, 19.6, 15.2, 14.5, 15.6, 13.9, 16.6, 14.8, 18.4, 21.0, 12.7, 14.5, 13.2, 13.1, 13.5, 18.9, 20.0, 21.0, 24.7, 30.8, 34.9, 26.6, 25.3, 24.7, 21.2, 19.3, 20.0, 16.6, 14.4, 19.4, 19.7, 20.5, 25.0, 23.4, 18.9, 35.4, 24.7, 31.6, 23.3, 19.6, 18.7, 16.0, 22.2, 25.0, 33.0, 23.5, 19.4, 22.0, 17.4, 20.9, 24.2, 21.7, 22.8, 23.4, 24.1, 21.4, 20.0, 20.8, 21.2, 20.3, 28.0, 23.9, 24.8, 22.9, 23.9, 26.6, 22.5, 22.2, 23.6, 28.7, 22.6, 22.0, 22.9, 25.0, 20.6, 28.4, 21.4, 38.7, 43.8, 33.2, 27.5, 26.5, 18.6, 19.3, 20.1, 19.5, 19.5, 20.4, 19.8, 19.4, 21.7, 22.8, 18.8, 18.7, 18.5, 18.3, 21.2, 19.2, 20.4, 19.3, 22.0, 20.3, 20.5, 17.3, 18.8, 21.4, 15.7, 16.2, 18.0, 14.3, 19.2, 19.6, 23.0, 18.4, 15.6, 18.1, 17.4, 17.1, 13.3, 17.8, 14.0, 14.4, 13.4, 15.6, 11.8, 13.8, 15.6, 14.6, 17.8, 15.4, 21.5, 19.6, 15.3, 19.4, 17.0, 15.6, 13.1, 41.3, 24.3, 23.3, 27.0, 50.0, 50.0, 50.0, 22.7, 25.0, 50.0, 23.8, 23.8, 22.3, 17.4, 19.1, 23.1, 23.6, 22.6, 29.4, 23.2, 24.6, 29.9, 37.2, 39.8, 36.2, 37.9, 32.5, 26.4, 29.6, 50.0, 32.0, 29.8, 34.9, 37.0, 30.5, 36.4, 31.1, 29.1, 50.0, 33.3, 30.3, 34.6, 34.9, 32.9, 24.1, 42.3, 48.5, 50.0, 22.6, 24.4, 22.5, 24.4, 20.0, 21.7, 19.3, 22.4, 28.1, 23.7, 25.0, 23.3, 28.7, 21.5, 23.0, 26.7, 21.7, 27.5, 30.1, 44.8, 50.0, 37.6, 31.6, 46.7, 31.5, 24.3, 31.7, 41.7, 48.3, 29.0, 24.0, 25.1, 31.5, 23.7, 23.3, 22.0, 20.1, 22.2, 23.7, 17.6, 18.5, 24.3, 20.5, 24.5, 26.2, 24.4, 24.8, 29.6, 42.8, 21.9, 20.9, 44.0, 50.0, 36.0, 30.1, 33.8, 43.1, 48.8, 31.0, 36.5\u001b[33m...\u001b[0m"
      ]
     },
     "metadata": {},
     "output_type": "display_data"
    }
   ],
   "source": [
    "// import boston dataset \n",
    "val x = csvread(new File(\"../resources/bostonX.csv\"));\n",
    "val y = csvread(new File(\"../resources/bostonY.csv\")).toDenseVector;"
   ]
  },
  {
   "cell_type": "code",
   "execution_count": 5,
   "metadata": {},
   "outputs": [
    {
     "name": "stderr",
     "output_type": "stream",
     "text": [
      "Mar 22, 2018 10:40:12 PM com.github.fommil.netlib.LAPACK <clinit>\n",
      "WARNING: Failed to load implementation from: com.github.fommil.netlib.NativeSystemLAPACK\n",
      "Mar 22, 2018 10:40:12 PM com.github.fommil.jni.JniLoader liberalLoad\n",
      "INFO: successfully loaded C:\\Users\\WHITTA~1\\AppData\\Local\\Temp\\jniloader4323792659030018573netlib-native_ref-win-x86_64.dll\n",
      "Mar 22, 2018 10:40:12 PM com.github.fommil.netlib.BLAS <clinit>\n",
      "WARNING: Failed to load implementation from: com.github.fommil.netlib.NativeSystemBLAS\n",
      "Mar 22, 2018 10:40:12 PM com.github.fommil.jni.JniLoader load\n",
      "INFO: already loaded netlib-native_ref-win-x86_64.dll\n"
     ]
    },
    {
     "data": {
      "text/plain": [
       "\u001b[36mglmnet\u001b[0m: \u001b[32mGlmNet\u001b[0m = com.github.timsetsfire.enets.GlmNet@3e7ebadc"
      ]
     },
     "metadata": {},
     "output_type": "display_data"
    }
   ],
   "source": [
    "val glmnet = new GlmNet(x,y,standardizeTarget=true)\n",
    "// features are standardized by default\n",
    "// fit glmnet\n",
    "glmnet.fit\n",
    "// no inline plotting available, this will popup in a new window\n",
    "glmnet.plotCoordinatePath"
   ]
  },
  {
   "cell_type": "code",
   "execution_count": 6,
   "metadata": {},
   "outputs": [
    {
     "data": {
      "text/plain": [
       "\u001b[36mrlmnet\u001b[0m: \u001b[32mRlmNet\u001b[0m = com.github.timsetsfire.enets.RlmNet@4cfa6a3b"
      ]
     },
     "metadata": {},
     "output_type": "display_data"
    }
   ],
   "source": [
    "// fit RlmNet\n",
    "val rlmnet = new RlmNet(x,y,rnorm=HuberT(),standardizeTarget=true) // default norm is least squares\n",
    "rlmnet.fit\n",
    "rlmnet.plotCoordinatePath"
   ]
  },
  {
   "cell_type": "code",
   "execution_count": 35,
   "metadata": {
    "scrolled": false
   },
   "outputs": [
    {
     "data": {
      "text/plain": [
       "\u001b[36myMed\u001b[0m: \u001b[32mDouble\u001b[0m = \u001b[32m21.2\u001b[0m\n",
       "\u001b[36mg\u001b[0m: \u001b[32mbreeze\u001b[0m.\u001b[32mlinalg\u001b[0m.\u001b[32mDenseVector\u001b[0m[\u001b[32mDouble\u001b[0m] = DenseVector(1.0, 1.0, 1.0, 1.0, 1.0, 1.0, 1.0, 1.0, 0.0, 0.0, 0.0, 0.0, 1.0, 0.0, 0.0, 0.0, 1.0, 0.0, 0.0, 0.0, 0.0, 0.0, 0.0, 0.0, 0.0, 0.0, 0.0, 0.0, 0.0, 0.0, 0.0, 0.0, 0.0, 0.0, 0.0, 0.0, 0.0, 0.0, 1.0, 1.0, 1.0, 1.0, 1.0, 1.0, 0.0, 0.0, 0.0, 0.0, 0.0, 0.0, 0.0, 0.0, 1.0, 1.0, 0.0, 1.0, 1.0, 1.0, 1.0, 0.0, 0.0, 0.0, 1.0, 1.0, 1.0, 1.0, 0.0, 1.0, 0.0, 0.0, 1.0, 1.0, 1.0, 1.0, 1.0, 1.0, 0.0, 0.0, 0.0, 0.0, 1.0, 1.0, 1.0, 1.0, 1.0, 1.0, 1.0, 1.0, 1.0, 1.0, 1.0, 1.0, 1.0, 1.0, 0.0, 1.0, 1.0, 1.0, 1.0, 1.0, 1.0, 1.0, 0.0, 0.0, 0.0, 0.0, 0.0, 0.0, 0.0, 0.0, 1.0, 1.0, 0.0, 0.0, 0.0, 0.0, 0.0, 0.0, 0.0, 0.0, 1.0, 0.0, 0.0, 0.0, 0.0, 1.0, 0.0, 0.0, 0.0, 0.0, 0.0, 0.0, 1.0, 0.0, 0.0, 0.0, 0.0, 0.0, 0.0, 0.0, 0.0, 0.0, 0.0, 0.0, 0.0, 0.0, 0.0, 0.0, 0.0, 0.0, 1.0, 0.0, 0.0, 0.0, 0.0, 0.0, 0.0, 1.0, 1.0, 1.0, 1.0, 1.0, 1.0, 1.0, 1.0, 1.0, 1.0, 1.0, 1.0, 1.0, 0.0, 0.0, 1.0, 1.0, 1.0, 1.0, 1.0, 1.0, 1.0, 1.0, 1.0, 1.0, 1.0, 1.0, 1.0, 1.0, 1.0, 1.0, 1.0, 1.0, 1.0, 1.0, 1.0, 1.0, 1.0, 1.0, 1.0, 1.0, 1.0, 1.0, 1.0, 1.0, 1.0, 1.0, 1.0, 1.0, 1.0, 1.0, 1.0, 0.0, 1.0, 0.0, 1.0, 1.0, 1.0, 1.0, 1.0, 1.0, 1.0, 1.0, 1.0, 1.0, 1.0, 1.0, 1.0, 1.0, 1.0, 1.0, 1.0, 1.0, 1.0, 1.0, 1.0, 1.0, 1.0, 1.0, 1.0, 1.0, 1.0, 1.0, 1.0, 0.0, 1.0, 1.0, 0.0, 0.0, 1.0, 0.0, 1.0, 1.0, 1.0, 1.0, 1.0, 1.0, 1.0, 0.0, 1.0, 1.0, 1.0, 1.0, 1.0, 1.0, 1.0, 1.0, 1.0, 1.0, 1.0, 1.0, 1.0, 0.0, 0.0, 1.0, 1.0, 1.0, 1.0, 1.0, 1.0, 1.0, 1.0, 1.0, 1.0, 1.0, 1.0, 1.0, 1.0, 1.0, 0.0, 1.0, 1.0, 1.0, 1.0, 1.0, 1.0, 1.0, 1.0, 1.0, 1.0, 0.0, 1.0, 1.0, 1.0, 1.0, 1.0, 1.0, 1.0, 1.0, 1.0, 1.0, 1.0, 0.0, 0.0, 1.0, 0.0, 1.0, 1.0, 0.0, 0.0, 0.0\u001b[33m...\u001b[0m"
      ]
     },
     "metadata": {},
     "output_type": "display_data"
    }
   ],
   "source": [
    "val yMed = median(y)\n",
    "val g = y.map{ element => if(element > yMed) 1d else 0d }"
   ]
  },
  {
   "cell_type": "code",
   "execution_count": 36,
   "metadata": {},
   "outputs": [
    {
     "data": {
      "text/plain": [
       "\u001b[36mlr\u001b[0m: \u001b[32mGlmNet\u001b[0m = com.github.timsetsfire.enets.GlmNet@4448b7a9"
      ]
     },
     "metadata": {},
     "output_type": "display_data"
    }
   ],
   "source": [
    "// fit a logistic regression \n",
    "val lr = new GlmNet(x,g,family=\"binomial\", link=\"logit\")\n",
    "lr.fit\n",
    "lr.plotCoordinatePath"
   ]
  },
  {
   "cell_type": "code",
   "execution_count": 37,
   "metadata": {},
   "outputs": [
    {
     "data": {
      "text/plain": [
       "\u001b[32mimport \u001b[36mbreeze.numerics.sigmoid\u001b[0m\n",
       "\u001b[36myhat\u001b[0m: \u001b[32mbreeze\u001b[0m.\u001b[32mlinalg\u001b[0m.\u001b[32mDenseVector\u001b[0m[\u001b[32mDouble\u001b[0m] = DenseVector(1.0, 1.0, 1.0, 1.0, 1.0, 1.0, 1.0, 0.0, 0.0, 0.0, 0.0, 1.0, 0.0, 0.0, 0.0, 0.0, 1.0, 0.0, 0.0, 0.0, 0.0, 0.0, 0.0, 0.0, 0.0, 0.0, 0.0, 0.0, 0.0, 0.0, 0.0, 0.0, 0.0, 0.0, 0.0, 1.0, 0.0, 1.0, 1.0, 1.0, 1.0, 1.0, 1.0, 1.0, 1.0, 1.0, 0.0, 0.0, 0.0, 0.0, 0.0, 1.0, 1.0, 1.0, 0.0, 1.0, 1.0, 1.0, 1.0, 1.0, 0.0, 0.0, 1.0, 1.0, 1.0, 1.0, 1.0, 1.0, 0.0, 1.0, 1.0, 1.0, 1.0, 1.0, 1.0, 1.0, 0.0, 1.0, 0.0, 1.0, 1.0, 1.0, 1.0, 1.0, 1.0, 1.0, 0.0, 1.0, 1.0, 1.0, 1.0, 1.0, 1.0, 1.0, 1.0, 1.0, 1.0, 1.0, 1.0, 1.0, 1.0, 1.0, 0.0, 0.0, 0.0, 0.0, 0.0, 0.0, 0.0, 0.0, 0.0, 1.0, 0.0, 0.0, 1.0, 0.0, 1.0, 1.0, 0.0, 0.0, 0.0, 0.0, 0.0, 0.0, 0.0, 0.0, 0.0, 0.0, 0.0, 0.0, 0.0, 0.0, 0.0, 0.0, 0.0, 0.0, 0.0, 0.0, 0.0, 0.0, 0.0, 0.0, 0.0, 0.0, 0.0, 0.0, 0.0, 0.0, 0.0, 0.0, 1.0, 0.0, 1.0, 0.0, 1.0, 1.0, 0.0, 1.0, 1.0, 1.0, 1.0, 1.0, 1.0, 1.0, 1.0, 1.0, 1.0, 1.0, 1.0, 1.0, 0.0, 1.0, 0.0, 1.0, 1.0, 1.0, 1.0, 1.0, 1.0, 1.0, 1.0, 1.0, 1.0, 1.0, 0.0, 0.0, 1.0, 1.0, 1.0, 1.0, 1.0, 1.0, 1.0, 1.0, 1.0, 1.0, 1.0, 1.0, 1.0, 1.0, 1.0, 1.0, 1.0, 1.0, 1.0, 1.0, 1.0, 0.0, 1.0, 0.0, 0.0, 0.0, 0.0, 1.0, 0.0, 1.0, 1.0, 1.0, 0.0, 1.0, 1.0, 0.0, 1.0, 1.0, 1.0, 1.0, 1.0, 1.0, 1.0, 1.0, 1.0, 1.0, 1.0, 1.0, 1.0, 1.0, 1.0, 1.0, 1.0, 1.0, 1.0, 1.0, 1.0, 1.0, 0.0, 0.0, 1.0, 0.0, 1.0, 1.0, 1.0, 1.0, 1.0, 1.0, 1.0, 1.0, 1.0, 1.0, 1.0, 1.0, 1.0, 1.0, 1.0, 1.0, 1.0, 1.0, 1.0, 1.0, 1.0, 1.0, 0.0, 1.0, 1.0, 1.0, 1.0, 1.0, 1.0, 1.0, 1.0, 1.0, 1.0, 1.0, 1.0, 1.0, 1.0, 1.0, 0.0, 1.0, 1.0, 1.0, 1.0, 1.0, 1.0, 1.0, 1.0, 1.0, 1.0, 0.0, 1.0, 1.0, 1.0, 1.0, 1.0, 1.0, 1.0, 1.0, 1.0, 1.0, 1.0, 1.0, 0.0, 1.0, 0.0, 1.0, 1.0, 0.0, 0.0, 0.0\u001b[33m...\u001b[0m"
      ]
     },
     "metadata": {},
     "output_type": "display_data"
    }
   ],
   "source": [
    "import breeze.numerics.sigmoid \n",
    "val yhat = sigmoid(lr.x * lr.b(::, 30) + lr.b0(30)) map{ p => if(p > 0.5) 1d else 0d}"
   ]
  },
  {
   "cell_type": "code",
   "execution_count": 38,
   "metadata": {},
   "outputs": [
    {
     "data": {
      "text/plain": [
       "\u001b[36mnCorrect\u001b[0m: \u001b[32mDouble\u001b[0m = \u001b[32m438.0\u001b[0m"
      ]
     },
     "metadata": {},
     "output_type": "display_data"
    }
   ],
   "source": [
    "val nCorrect = g.toArray zip yhat.toArray map{ case(actual, prediction) => if(actual == prediction) 1d else 0d} sum"
   ]
  },
  {
   "cell_type": "code",
   "execution_count": 39,
   "metadata": {},
   "outputs": [
    {
     "name": "stdout",
     "output_type": "stream",
     "text": [
      "accuracy: 86.56%\r\n"
     ]
    },
    {
     "data": {
      "text/plain": []
     },
     "metadata": {},
     "output_type": "display_data"
    }
   ],
   "source": [
    "println(f\"accuracy: ${nCorrect / g.length * 100}%2.2f\" + \"%\")"
   ]
  },
  {
   "cell_type": "code",
   "execution_count": 40,
   "metadata": {},
   "outputs": [
    {
     "data": {
      "text/plain": [
       "\u001b[36mres39\u001b[0m: \u001b[32mbreeze\u001b[0m.\u001b[32mlinalg\u001b[0m.\u001b[32mDenseVector\u001b[0m[\u001b[32mDouble\u001b[0m] = DenseVector(0.0, 0.0, 0.0, 0.2174172595751625, -0.039428668209070004, 0.5951370435652193, -0.1840802749542785, -0.14483677421508095, 0.0, 0.0, -0.5863024775047501, 0.13089718770906264, -1.7598869029266286)"
      ]
     },
     "metadata": {},
     "output_type": "display_data"
    }
   ],
   "source": [
    "lr.b(::, 30)"
   ]
  },
  {
   "cell_type": "code",
   "execution_count": null,
   "metadata": {},
   "outputs": [],
   "source": []
  }
 ],
 "metadata": {
  "hide_input": false,
  "kernelspec": {
   "display_name": "Scala 2.11",
   "language": "scala211",
   "name": "scala211"
  },
  "language_info": {
   "codemirror_mode": "text/x-scala",
   "file_extension": ".scala",
   "mimetype": "text/x-scala",
   "name": "scala211",
   "pygments_lexer": "scala",
   "version": "2.11.8"
  },
  "varInspector": {
   "cols": {
    "lenName": 16,
    "lenType": 16,
    "lenVar": 40
   },
   "kernels_config": {
    "python": {
     "delete_cmd_postfix": "",
     "delete_cmd_prefix": "del ",
     "library": "var_list.py",
     "varRefreshCmd": "print(var_dic_list())"
    },
    "r": {
     "delete_cmd_postfix": ") ",
     "delete_cmd_prefix": "rm(",
     "library": "var_list.r",
     "varRefreshCmd": "cat(var_dic_list()) "
    }
   },
   "types_to_exclude": [
    "module",
    "function",
    "builtin_function_or_method",
    "instance",
    "_Feature"
   ],
   "window_display": false
  }
 },
 "nbformat": 4,
 "nbformat_minor": 2
}
